{
 "cells": [
  {
   "cell_type": "code",
   "execution_count": 2,
   "metadata": {},
   "outputs": [],
   "source": [
    "import mne\n",
    "import scipy.io\n",
    "import numpy as np\n",
    "import matplotlib.pyplot as plt"
   ]
  },
  {
   "cell_type": "code",
   "execution_count": 3,
   "metadata": {},
   "outputs": [],
   "source": [
    "mat = scipy.io.loadmat(\"/Users/juhyun/Desktop/trainingData/Mouse01/Mouse01/Day1_light_cycle/data.mat\")"
   ]
  },
  {
   "cell_type": "code",
   "execution_count": 4,
   "metadata": {},
   "outputs": [
    {
     "name": "stdout",
     "output_type": "stream",
     "text": [
      "__header__\n",
      "__version__\n",
      "__globals__\n",
      "data\n",
      "\n",
      "fields: ['recording', 'labels', 'srate', 'channel', 'recordingInfo', 'labelInfo']\n"
     ]
    }
   ],
   "source": [
    "for i in mat:\n",
    "    print(i)\n",
    "print()\n",
    "\n",
    "fields = list(mat['data'][0].dtype.fields.keys())\n",
    "print(\"fields:\", fields)"
   ]
  },
  {
   "cell_type": "code",
   "execution_count": 5,
   "metadata": {},
   "outputs": [],
   "source": [
    "eeg_ch_names = [\n",
    "    \"EEG\"\n",
    "]\n",
    "emg_ch_names = [\"EMG\"]\n",
    "ch_names = eeg_ch_names + emg_ch_names + [\"Stim\"]\n",
    "ch_types = [\"eeg\"] * 64 + [\"emg\"] * 4 + [\"stim\"]"
   ]
  },
  {
   "cell_type": "code",
   "execution_count": 6,
   "metadata": {},
   "outputs": [
    {
     "data": {
      "text/plain": [
       "(2, 1280, 17280)"
      ]
     },
     "execution_count": 6,
     "metadata": {},
     "output_type": "execute_result"
    }
   ],
   "source": [
    "mat['data'][0]['recording'][0].shape"
   ]
  },
  {
   "cell_type": "code",
   "execution_count": 7,
   "metadata": {},
   "outputs": [
    {
     "data": {
      "text/plain": [
       "(1, 22118400)"
      ]
     },
     "execution_count": 7,
     "metadata": {},
     "output_type": "execute_result"
    }
   ],
   "source": [
    "eeg_data = mat['data'][0]['recording'][0][0]\n",
    "eeg_data.shape\n",
    "eeg_data = eeg_data.reshape(1, -1)\n",
    "eeg_data.shape"
   ]
  },
  {
   "cell_type": "code",
   "execution_count": 8,
   "metadata": {},
   "outputs": [
    {
     "data": {
      "text/plain": [
       "array([[2],\n",
       "       [2],\n",
       "       [2],\n",
       "       ...,\n",
       "       [3],\n",
       "       [3],\n",
       "       [3]], dtype=uint8)"
      ]
     },
     "execution_count": 8,
     "metadata": {},
     "output_type": "execute_result"
    }
   ],
   "source": [
    "mat['data'][0]['labels'][0]"
   ]
  },
  {
   "cell_type": "code",
   "execution_count": 9,
   "metadata": {},
   "outputs": [],
   "source": [
    "srate = mat['data'][0]['srate'][0][0]\n",
    "\n",
    "# info 생성\n",
    "info = mne.create_info(ch_names=eeg_ch_names, sfreq=srate, ch_types=\"eeg\")\n",
    "\n",
    "# Stim channel 붙이기\n",
    "#left = np.vstack((mat['data'][0]['imagery_left'][0], mat['eeg'][0]['imagery_event'][0]))\n",
    "#right = np.vstack((mat['data'][0]['imagery_right'][0], mat['eeg'][0]['imagery_event'][0]))"
   ]
  },
  {
   "cell_type": "code",
   "execution_count": 10,
   "metadata": {},
   "outputs": [
    {
     "name": "stdout",
     "output_type": "stream",
     "text": [
      "Creating RawArray with float64 data, n_channels=1, n_times=22118400\n",
      "    Range : 0 ... 22118399 =      0.000 ... 43199.998 secs\n",
      "Ready.\n"
     ]
    }
   ],
   "source": [
    "eeg_raw = mne.io.RawArray(eeg_data, info=info)"
   ]
  },
  {
   "cell_type": "code",
   "execution_count": 11,
   "metadata": {},
   "outputs": [
    {
     "name": "stdout",
     "output_type": "stream",
     "text": [
      "Applying average reference.\n",
      "Applying a custom ('EEG',) reference.\n"
     ]
    },
    {
     "data": {
      "text/plain": [
       "(<RawArray | 1 x 22118400 (43200.0 s), ~168.8 MB, data loaded>,\n",
       " array([ 27.,  80., -75., ..., -60.,  13.,  52.]))"
      ]
     },
     "execution_count": 11,
     "metadata": {},
     "output_type": "execute_result"
    }
   ],
   "source": [
    "mne.set_eeg_reference(eeg_raw, ch_type='eeg')"
   ]
  },
  {
   "cell_type": "code",
   "execution_count": 12,
   "metadata": {},
   "outputs": [
    {
     "ename": "",
     "evalue": "",
     "output_type": "error",
     "traceback": [
      "\u001b[1;31mThe Kernel crashed while executing code in the the current cell or a previous cell. Please review the code in the cell(s) to identify a possible cause of the failure. Click <a href='https://aka.ms/vscodeJupyterKernelCrash'>here</a> for more info. View Jupyter <a href='command:jupyter.viewOutput'>log</a> for further details."
     ]
    }
   ],
   "source": [
    "raw_data = eeg_raw.get_data()\n",
    "plt.plot(raw_data)\n",
    "plt.show()"
   ]
  },
  {
   "cell_type": "code",
   "execution_count": null,
   "metadata": {},
   "outputs": [],
   "source": []
  }
 ],
 "metadata": {
  "kernelspec": {
   "display_name": "Python 3",
   "language": "python",
   "name": "python3"
  },
  "language_info": {
   "codemirror_mode": {
    "name": "ipython",
    "version": 3
   },
   "file_extension": ".py",
   "mimetype": "text/x-python",
   "name": "python",
   "nbconvert_exporter": "python",
   "pygments_lexer": "ipython3",
   "version": "3.11.4"
  }
 },
 "nbformat": 4,
 "nbformat_minor": 2
}
