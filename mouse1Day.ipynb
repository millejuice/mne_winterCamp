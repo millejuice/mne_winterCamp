{
 "cells": [
  {
   "cell_type": "code",
   "execution_count": 1,
   "metadata": {},
   "outputs": [],
   "source": [
    "import mne\n",
    "import scipy.io\n",
    "import numpy as np\n",
    "import matplotlib.pyplot as plt"
   ]
  },
  {
   "cell_type": "code",
   "execution_count": 3,
   "metadata": {},
   "outputs": [],
   "source": [
    "mat = scipy.io.loadmat(\"/Users/juhyun/Desktop/trainingData/Mouse01/Mouse01/Day1_light_cycle/EEG.mat\")"
   ]
  },
  {
   "cell_type": "code",
   "execution_count": 11,
   "metadata": {},
   "outputs": [
    {
     "name": "stdout",
     "output_type": "stream",
     "text": [
      "(1,)\n",
      "int16\n",
      "<class 'numpy.ndarray'>\n",
      "(22118400, 1)\n"
     ]
    }
   ],
   "source": [
    "print(mat['EEG'][0].shape) #배열의 크기 확인 위해 \n",
    "print(mat['EEG'][0].dtype) #배열에 저장된 데이타 타입 확인 위해\n",
    "print(type(mat['EEG'][0])) #numPy 타입인지 확인하기 위해 \n",
    "print(mat['EEG'].shape) #배열의 전체 크기"
   ]
  },
  {
   "cell_type": "code",
   "execution_count": 12,
   "metadata": {},
   "outputs": [],
   "source": [
    "#raw를 생성하기 위해서는 info가 필요한데, info만들기 위해서는 매개변수 필요\n",
    "eeg_ch_names = [\n",
    "    \"EEG\"\n",
    "]\n",
    "emg_ch_names = [\"EMG\"]\n",
    "ch_names = eeg_ch_names + emg_ch_names + [\"Stim\"]\n",
    "ch_types = [\"eeg\"] * 64 + [\"emg\"] * 4 + [\"stim\"]"
   ]
  }
 ],
 "metadata": {
  "kernelspec": {
   "display_name": "Python 3",
   "language": "python",
   "name": "python3"
  },
  "language_info": {
   "codemirror_mode": {
    "name": "ipython",
    "version": 3
   },
   "file_extension": ".py",
   "mimetype": "text/x-python",
   "name": "python",
   "nbconvert_exporter": "python",
   "pygments_lexer": "ipython3",
   "version": "3.11.4"
  }
 },
 "nbformat": 4,
 "nbformat_minor": 2
}
